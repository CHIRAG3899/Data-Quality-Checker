{
 "cells": [
  {
   "cell_type": "code",
   "execution_count": 2,
   "id": "1c79ebbb",
   "metadata": {},
   "outputs": [
    {
     "name": "stdout",
     "output_type": "stream",
     "text": [
      "Requirement already satisfied: gcsfs in c:\\users\\chirubhai\\anaconda3\\lib\\site-packages (2021.6.0)Note: you may need to restart the kernel to use updated packages.\n",
      "\n",
      "Requirement already satisfied: requests in c:\\users\\chirubhai\\anaconda3\\lib\\site-packages (from gcsfs) (2.25.1)\n",
      "Requirement already satisfied: fsspec==2021.06.0 in c:\\users\\chirubhai\\anaconda3\\lib\\site-packages (from gcsfs) (2021.6.0)\n",
      "Requirement already satisfied: google-auth>=1.2 in c:\\users\\chirubhai\\anaconda3\\lib\\site-packages (from gcsfs) (1.31.0)\n",
      "Requirement already satisfied: google-auth-oauthlib in c:\\users\\chirubhai\\anaconda3\\lib\\site-packages (from gcsfs) (0.4.4)\n",
      "Requirement already satisfied: aiohttp in c:\\users\\chirubhai\\anaconda3\\lib\\site-packages (from gcsfs) (3.7.4.post0)\n",
      "Requirement already satisfied: decorator in c:\\users\\chirubhai\\anaconda3\\lib\\site-packages (from gcsfs) (5.0.6)\n",
      "Requirement already satisfied: setuptools>=40.3.0 in c:\\users\\chirubhai\\anaconda3\\lib\\site-packages (from google-auth>=1.2->gcsfs) (52.0.0.post20210125)\n",
      "Requirement already satisfied: pyasn1-modules>=0.2.1 in c:\\users\\chirubhai\\anaconda3\\lib\\site-packages (from google-auth>=1.2->gcsfs) (0.2.8)\n",
      "Requirement already satisfied: cachetools<5.0,>=2.0.0 in c:\\users\\chirubhai\\anaconda3\\lib\\site-packages (from google-auth>=1.2->gcsfs) (4.2.2)\n",
      "Requirement already satisfied: rsa<5,>=3.1.4 in c:\\users\\chirubhai\\anaconda3\\lib\\site-packages (from google-auth>=1.2->gcsfs) (4.7.2)\n",
      "Requirement already satisfied: six>=1.9.0 in c:\\users\\chirubhai\\anaconda3\\lib\\site-packages (from google-auth>=1.2->gcsfs) (1.15.0)\n",
      "Requirement already satisfied: pyasn1<0.5.0,>=0.4.6 in c:\\users\\chirubhai\\anaconda3\\lib\\site-packages (from pyasn1-modules>=0.2.1->google-auth>=1.2->gcsfs) (0.4.8)\n",
      "Requirement already satisfied: multidict<7.0,>=4.5 in c:\\users\\chirubhai\\anaconda3\\lib\\site-packages (from aiohttp->gcsfs) (5.1.0)\n",
      "Requirement already satisfied: typing-extensions>=3.6.5 in c:\\users\\chirubhai\\anaconda3\\lib\\site-packages (from aiohttp->gcsfs) (3.7.4.3)\n",
      "Requirement already satisfied: attrs>=17.3.0 in c:\\users\\chirubhai\\anaconda3\\lib\\site-packages (from aiohttp->gcsfs) (20.3.0)\n",
      "Requirement already satisfied: chardet<5.0,>=2.0 in c:\\users\\chirubhai\\anaconda3\\lib\\site-packages (from aiohttp->gcsfs) (4.0.0)\n",
      "Requirement already satisfied: async-timeout<4.0,>=3.0 in c:\\users\\chirubhai\\anaconda3\\lib\\site-packages (from aiohttp->gcsfs) (3.0.1)\n",
      "Requirement already satisfied: yarl<2.0,>=1.0 in c:\\users\\chirubhai\\anaconda3\\lib\\site-packages (from aiohttp->gcsfs) (1.6.3)\n",
      "Requirement already satisfied: idna>=2.0 in c:\\users\\chirubhai\\anaconda3\\lib\\site-packages (from yarl<2.0,>=1.0->aiohttp->gcsfs) (2.10)\n",
      "Requirement already satisfied: requests-oauthlib>=0.7.0 in c:\\users\\chirubhai\\anaconda3\\lib\\site-packages (from google-auth-oauthlib->gcsfs) (1.3.0)\n",
      "Requirement already satisfied: oauthlib>=3.0.0 in c:\\users\\chirubhai\\anaconda3\\lib\\site-packages (from requests-oauthlib>=0.7.0->google-auth-oauthlib->gcsfs) (3.1.1)\n",
      "Requirement already satisfied: urllib3<1.27,>=1.21.1 in c:\\users\\chirubhai\\anaconda3\\lib\\site-packages (from requests->gcsfs) (1.26.4)\n",
      "Requirement already satisfied: certifi>=2017.4.17 in c:\\users\\chirubhai\\anaconda3\\lib\\site-packages (from requests->gcsfs) (2020.12.5)\n"
     ]
    }
   ],
   "source": [
    "pip install gcsfs"
   ]
  },
  {
   "cell_type": "code",
   "execution_count": 3,
   "id": "46c1ef0a",
   "metadata": {},
   "outputs": [],
   "source": [
    "import great_expectations as ge\n",
    "import pandas as pd\n",
    "import gcsfs"
   ]
  },
  {
   "cell_type": "code",
   "execution_count": 4,
   "id": "2e8391b3",
   "metadata": {},
   "outputs": [],
   "source": [
    "df = ge.read_csv('gs://hr_data_project/HR Case Study.csv',encoding= 'unicode_escape')"
   ]
  },
  {
   "cell_type": "code",
   "execution_count": 5,
   "id": "fc31040b",
   "metadata": {},
   "outputs": [
    {
     "data": {
      "text/html": [
       "<div>\n",
       "<style scoped>\n",
       "    .dataframe tbody tr th:only-of-type {\n",
       "        vertical-align: middle;\n",
       "    }\n",
       "\n",
       "    .dataframe tbody tr th {\n",
       "        vertical-align: top;\n",
       "    }\n",
       "\n",
       "    .dataframe thead th {\n",
       "        text-align: right;\n",
       "    }\n",
       "</style>\n",
       "<table border=\"1\" class=\"dataframe\">\n",
       "  <thead>\n",
       "    <tr style=\"text-align: right;\">\n",
       "      <th></th>\n",
       "      <th>Name</th>\n",
       "      <th>Gender</th>\n",
       "      <th>Department</th>\n",
       "      <th>Annual Salary</th>\n",
       "      <th>Location</th>\n",
       "      <th>Rating</th>\n",
       "      <th>Distance to Office</th>\n",
       "      <th>Age</th>\n",
       "      <th>Tenure in Company</th>\n",
       "    </tr>\n",
       "  </thead>\n",
       "  <tbody>\n",
       "    <tr>\n",
       "      <th>0</th>\n",
       "      <td>Aarti Panchal</td>\n",
       "      <td>Female</td>\n",
       "      <td>CEO</td>\n",
       "      <td>10000000</td>\n",
       "      <td>Mumbai</td>\n",
       "      <td>Very Good</td>\n",
       "      <td>25</td>\n",
       "      <td>31</td>\n",
       "      <td>10.4</td>\n",
       "    </tr>\n",
       "    <tr>\n",
       "      <th>1</th>\n",
       "      <td>Aastha Behl</td>\n",
       "      <td>Female</td>\n",
       "      <td>Sales</td>\n",
       "      <td>880500</td>\n",
       "      <td>Bengaluru</td>\n",
       "      <td>Very Good</td>\n",
       "      <td>7</td>\n",
       "      <td>40</td>\n",
       "      <td>18.2</td>\n",
       "    </tr>\n",
       "    <tr>\n",
       "      <th>2</th>\n",
       "      <td>Abhinaw Sinha</td>\n",
       "      <td>Male</td>\n",
       "      <td>Engineering</td>\n",
       "      <td>682200</td>\n",
       "      <td>Bengaluru</td>\n",
       "      <td>Good</td>\n",
       "      <td>15</td>\n",
       "      <td>28</td>\n",
       "      <td>6.6</td>\n",
       "    </tr>\n",
       "    <tr>\n",
       "      <th>3</th>\n",
       "      <td>Abhishek Dabb</td>\n",
       "      <td>Male</td>\n",
       "      <td>Legal</td>\n",
       "      <td>563700</td>\n",
       "      <td>New Delhi</td>\n",
       "      <td>Very Good</td>\n",
       "      <td>5</td>\n",
       "      <td>39</td>\n",
       "      <td>13.3</td>\n",
       "    </tr>\n",
       "    <tr>\n",
       "      <th>4</th>\n",
       "      <td>Abhishek Kumar Preetam</td>\n",
       "      <td>Male</td>\n",
       "      <td>Support</td>\n",
       "      <td>1070900</td>\n",
       "      <td>New Delhi</td>\n",
       "      <td>Poor</td>\n",
       "      <td>10</td>\n",
       "      <td>26</td>\n",
       "      <td>4.8</td>\n",
       "    </tr>\n",
       "  </tbody>\n",
       "</table>\n",
       "</div>"
      ],
      "text/plain": [
       "                     Name  Gender   Department  Annual Salary   Location  \\\n",
       "0           Aarti Panchal  Female          CEO       10000000     Mumbai   \n",
       "1             Aastha Behl  Female        Sales         880500  Bengaluru   \n",
       "2           Abhinaw Sinha    Male  Engineering         682200  Bengaluru   \n",
       "3           Abhishek Dabb    Male        Legal         563700  New Delhi   \n",
       "4  Abhishek Kumar Preetam    Male      Support        1070900  New Delhi   \n",
       "\n",
       "      Rating  Distance to Office  Age  Tenure in Company  \n",
       "0  Very Good                  25   31               10.4  \n",
       "1  Very Good                   7   40               18.2  \n",
       "2       Good                  15   28                6.6  \n",
       "3  Very Good                   5   39               13.3  \n",
       "4       Poor                  10   26                4.8  "
      ]
     },
     "execution_count": 5,
     "metadata": {},
     "output_type": "execute_result"
    }
   ],
   "source": [
    "df.head()"
   ]
  },
  {
   "cell_type": "code",
   "execution_count": 6,
   "id": "cab558cd",
   "metadata": {},
   "outputs": [],
   "source": [
    "pg=df.describe()"
   ]
  },
  {
   "cell_type": "code",
   "execution_count": 7,
   "id": "853df09a",
   "metadata": {},
   "outputs": [
    {
     "data": {
      "text/html": [
       "<div>\n",
       "<style scoped>\n",
       "    .dataframe tbody tr th:only-of-type {\n",
       "        vertical-align: middle;\n",
       "    }\n",
       "\n",
       "    .dataframe tbody tr th {\n",
       "        vertical-align: top;\n",
       "    }\n",
       "\n",
       "    .dataframe thead th {\n",
       "        text-align: right;\n",
       "    }\n",
       "</style>\n",
       "<table border=\"1\" class=\"dataframe\">\n",
       "  <thead>\n",
       "    <tr style=\"text-align: right;\">\n",
       "      <th></th>\n",
       "      <th>Annual Salary</th>\n",
       "      <th>Distance to Office</th>\n",
       "      <th>Age</th>\n",
       "      <th>Tenure in Company</th>\n",
       "    </tr>\n",
       "  </thead>\n",
       "  <tbody>\n",
       "    <tr>\n",
       "      <th>count</th>\n",
       "      <td>8.750000e+02</td>\n",
       "      <td>875.000000</td>\n",
       "      <td>875.000000</td>\n",
       "      <td>875.00000</td>\n",
       "    </tr>\n",
       "    <tr>\n",
       "      <th>mean</th>\n",
       "      <td>7.488999e+05</td>\n",
       "      <td>15.101714</td>\n",
       "      <td>33.537143</td>\n",
       "      <td>6.82800</td>\n",
       "    </tr>\n",
       "    <tr>\n",
       "      <th>std</th>\n",
       "      <td>4.116801e+05</td>\n",
       "      <td>8.275156</td>\n",
       "      <td>4.394393</td>\n",
       "      <td>4.60058</td>\n",
       "    </tr>\n",
       "    <tr>\n",
       "      <th>min</th>\n",
       "      <td>2.813000e+05</td>\n",
       "      <td>1.000000</td>\n",
       "      <td>26.000000</td>\n",
       "      <td>0.00000</td>\n",
       "    </tr>\n",
       "    <tr>\n",
       "      <th>25%</th>\n",
       "      <td>5.062500e+05</td>\n",
       "      <td>8.000000</td>\n",
       "      <td>30.000000</td>\n",
       "      <td>3.30000</td>\n",
       "    </tr>\n",
       "    <tr>\n",
       "      <th>50%</th>\n",
       "      <td>7.428000e+05</td>\n",
       "      <td>15.000000</td>\n",
       "      <td>34.000000</td>\n",
       "      <td>6.10000</td>\n",
       "    </tr>\n",
       "    <tr>\n",
       "      <th>75%</th>\n",
       "      <td>9.679500e+05</td>\n",
       "      <td>22.000000</td>\n",
       "      <td>37.000000</td>\n",
       "      <td>9.70000</td>\n",
       "    </tr>\n",
       "    <tr>\n",
       "      <th>max</th>\n",
       "      <td>1.000000e+07</td>\n",
       "      <td>29.000000</td>\n",
       "      <td>41.000000</td>\n",
       "      <td>20.40000</td>\n",
       "    </tr>\n",
       "  </tbody>\n",
       "</table>\n",
       "</div>"
      ],
      "text/plain": [
       "       Annual Salary  Distance to Office         Age  Tenure in Company\n",
       "count   8.750000e+02          875.000000  875.000000          875.00000\n",
       "mean    7.488999e+05           15.101714   33.537143            6.82800\n",
       "std     4.116801e+05            8.275156    4.394393            4.60058\n",
       "min     2.813000e+05            1.000000   26.000000            0.00000\n",
       "25%     5.062500e+05            8.000000   30.000000            3.30000\n",
       "50%     7.428000e+05           15.000000   34.000000            6.10000\n",
       "75%     9.679500e+05           22.000000   37.000000            9.70000\n",
       "max     1.000000e+07           29.000000   41.000000           20.40000"
      ]
     },
     "execution_count": 7,
     "metadata": {},
     "output_type": "execute_result"
    }
   ],
   "source": [
    "pg"
   ]
  },
  {
   "cell_type": "code",
   "execution_count": 8,
   "id": "bae66e91",
   "metadata": {},
   "outputs": [],
   "source": [
    "pg.to_csv('gs://error_hr/error.csv')"
   ]
  },
  {
   "cell_type": "code",
   "execution_count": 9,
   "id": "d84e6a4c",
   "metadata": {},
   "outputs": [
    {
     "data": {
      "text/plain": [
       "Female          432\n",
       "Male            423\n",
       "Not Revealed     20\n",
       "Name: Gender, dtype: int64"
      ]
     },
     "execution_count": 9,
     "metadata": {},
     "output_type": "execute_result"
    }
   ],
   "source": [
    "df.Gender.value_counts()"
   ]
  },
  {
   "cell_type": "code",
   "execution_count": 10,
   "id": "713c8cca",
   "metadata": {},
   "outputs": [],
   "source": [
    "dg = ge.read_csv('gs://hr_data_project/Employee_monthly_salary.csv',encoding= 'unicode_escape')"
   ]
  },
  {
   "cell_type": "code",
   "execution_count": 11,
   "id": "be3f161b",
   "metadata": {},
   "outputs": [
    {
     "data": {
      "text/html": [
       "<div>\n",
       "<style scoped>\n",
       "    .dataframe tbody tr th:only-of-type {\n",
       "        vertical-align: middle;\n",
       "    }\n",
       "\n",
       "    .dataframe tbody tr th {\n",
       "        vertical-align: top;\n",
       "    }\n",
       "\n",
       "    .dataframe thead th {\n",
       "        text-align: right;\n",
       "    }\n",
       "</style>\n",
       "<table border=\"1\" class=\"dataframe\">\n",
       "  <thead>\n",
       "    <tr style=\"text-align: right;\">\n",
       "      <th></th>\n",
       "      <th>EmpID</th>\n",
       "      <th>Name</th>\n",
       "      <th>Gender</th>\n",
       "      <th>Date_of_Birth</th>\n",
       "      <th>Age</th>\n",
       "      <th>Join_Date</th>\n",
       "      <th>Tenure_in_org_in_months</th>\n",
       "      <th>GROSS</th>\n",
       "      <th>Net_Pay</th>\n",
       "      <th>Deduction</th>\n",
       "      <th>Deduction_percentage</th>\n",
       "      <th>Designation</th>\n",
       "      <th>Department</th>\n",
       "    </tr>\n",
       "  </thead>\n",
       "  <tbody>\n",
       "    <tr>\n",
       "      <th>0</th>\n",
       "      <td>19575</td>\n",
       "      <td>Keven Norman</td>\n",
       "      <td>M</td>\n",
       "      <td>3/9/94</td>\n",
       "      <td>25</td>\n",
       "      <td>2/12/19</td>\n",
       "      <td>7</td>\n",
       "      <td>74922</td>\n",
       "      <td>71494</td>\n",
       "      <td>3428</td>\n",
       "      <td>4.58</td>\n",
       "      <td>Product Operations Analyst.Associate.</td>\n",
       "      <td>IT Product Management &amp; Ops</td>\n",
       "    </tr>\n",
       "    <tr>\n",
       "      <th>1</th>\n",
       "      <td>19944</td>\n",
       "      <td>Kristin Werner</td>\n",
       "      <td>F</td>\n",
       "      <td>23/06/1994</td>\n",
       "      <td>26</td>\n",
       "      <td>13/01/2020</td>\n",
       "      <td>6</td>\n",
       "      <td>44375</td>\n",
       "      <td>39971</td>\n",
       "      <td>4404</td>\n",
       "      <td>9.92</td>\n",
       "      <td>Platform Operations Engineer.Associate.</td>\n",
       "      <td>Platform Operations</td>\n",
       "    </tr>\n",
       "    <tr>\n",
       "      <th>2</th>\n",
       "      <td>20055</td>\n",
       "      <td>Avery Barber</td>\n",
       "      <td>M</td>\n",
       "      <td>27/02/1996</td>\n",
       "      <td>24</td>\n",
       "      <td>14/11/2019</td>\n",
       "      <td>8</td>\n",
       "      <td>82263</td>\n",
       "      <td>77705</td>\n",
       "      <td>4558</td>\n",
       "      <td>5.54</td>\n",
       "      <td>Platform Operations Engineer.Associate.</td>\n",
       "      <td>Platform Operations</td>\n",
       "    </tr>\n",
       "    <tr>\n",
       "      <th>3</th>\n",
       "      <td>20058</td>\n",
       "      <td>Boris Gibson</td>\n",
       "      <td>M</td>\n",
       "      <td>29/09/1993</td>\n",
       "      <td>26</td>\n",
       "      <td>13/01/2020</td>\n",
       "      <td>6</td>\n",
       "      <td>44375</td>\n",
       "      <td>40164</td>\n",
       "      <td>4211</td>\n",
       "      <td>9.49</td>\n",
       "      <td>Platform Operations Engineer.Associate.</td>\n",
       "      <td>Platform Operations</td>\n",
       "    </tr>\n",
       "    <tr>\n",
       "      <th>4</th>\n",
       "      <td>20332</td>\n",
       "      <td>Leif Mack</td>\n",
       "      <td>M</td>\n",
       "      <td>1/5/91</td>\n",
       "      <td>29</td>\n",
       "      <td>4/6/18</td>\n",
       "      <td>25</td>\n",
       "      <td>235405</td>\n",
       "      <td>143963</td>\n",
       "      <td>91442</td>\n",
       "      <td>38.84</td>\n",
       "      <td>Software Engineer.Senior.</td>\n",
       "      <td>Enterprise Access Engineering</td>\n",
       "    </tr>\n",
       "  </tbody>\n",
       "</table>\n",
       "</div>"
      ],
      "text/plain": [
       "   EmpID            Name Gender Date_of_Birth  Age   Join_Date  \\\n",
       "0  19575    Keven Norman      M        3/9/94   25     2/12/19   \n",
       "1  19944  Kristin Werner      F    23/06/1994   26  13/01/2020   \n",
       "2  20055    Avery Barber      M    27/02/1996   24  14/11/2019   \n",
       "3  20058    Boris Gibson      M    29/09/1993   26  13/01/2020   \n",
       "4  20332       Leif Mack      M        1/5/91   29      4/6/18   \n",
       "\n",
       "   Tenure_in_org_in_months   GROSS  Net_Pay  Deduction  Deduction_percentage  \\\n",
       "0                        7   74922    71494       3428                  4.58   \n",
       "1                        6   44375    39971       4404                  9.92   \n",
       "2                        8   82263    77705       4558                  5.54   \n",
       "3                        6   44375    40164       4211                  9.49   \n",
       "4                       25  235405   143963      91442                 38.84   \n",
       "\n",
       "                               Designation                     Department  \n",
       "0    Product Operations Analyst.Associate.    IT Product Management & Ops  \n",
       "1  Platform Operations Engineer.Associate.            Platform Operations  \n",
       "2  Platform Operations Engineer.Associate.            Platform Operations  \n",
       "3  Platform Operations Engineer.Associate.            Platform Operations  \n",
       "4                Software Engineer.Senior.  Enterprise Access Engineering  "
      ]
     },
     "execution_count": 11,
     "metadata": {},
     "output_type": "execute_result"
    }
   ],
   "source": [
    "dg.head()"
   ]
  },
  {
   "cell_type": "code",
   "execution_count": 12,
   "id": "0da3af41",
   "metadata": {},
   "outputs": [],
   "source": [
    "GF=dg.expect_column_values_to_be_unique('EmpID',result_format='SUMMARY',meta='dict')"
   ]
  },
  {
   "cell_type": "code",
   "execution_count": 13,
   "id": "cd3dbdbc",
   "metadata": {},
   "outputs": [
    {
     "data": {
      "text/plain": [
       "{\n",
       "  \"result\": {\n",
       "    \"element_count\": 1802,\n",
       "    \"missing_count\": 0,\n",
       "    \"missing_percent\": 0.0,\n",
       "    \"unexpected_count\": 0,\n",
       "    \"unexpected_percent\": 0.0,\n",
       "    \"unexpected_percent_total\": 0.0,\n",
       "    \"unexpected_percent_nonmissing\": 0.0,\n",
       "    \"partial_unexpected_list\": [],\n",
       "    \"partial_unexpected_index_list\": [],\n",
       "    \"partial_unexpected_counts\": []\n",
       "  },\n",
       "  \"exception_info\": {\n",
       "    \"raised_exception\": false,\n",
       "    \"exception_traceback\": null,\n",
       "    \"exception_message\": null\n",
       "  },\n",
       "  \"meta\": \"dict\",\n",
       "  \"success\": true\n",
       "}"
      ]
     },
     "execution_count": 13,
     "metadata": {},
     "output_type": "execute_result"
    }
   ],
   "source": [
    "GF"
   ]
  },
  {
   "cell_type": "code",
   "execution_count": 14,
   "id": "ab21c1f5",
   "metadata": {},
   "outputs": [
    {
     "data": {
      "text/plain": [
       "{\n",
       "  \"result\": {\n",
       "    \"observed_value\": [\n",
       "      \"F\",\n",
       "      \"M\"\n",
       "    ],\n",
       "    \"element_count\": 1802,\n",
       "    \"missing_count\": null,\n",
       "    \"missing_percent\": null\n",
       "  },\n",
       "  \"exception_info\": {\n",
       "    \"raised_exception\": false,\n",
       "    \"exception_traceback\": null,\n",
       "    \"exception_message\": null\n",
       "  },\n",
       "  \"meta\": {},\n",
       "  \"success\": true\n",
       "}"
      ]
     },
     "execution_count": 14,
     "metadata": {},
     "output_type": "execute_result"
    }
   ],
   "source": [
    "dg.expect_column_distinct_values_to_be_in_set(\"Gender\",['M','F'])"
   ]
  },
  {
   "cell_type": "code",
   "execution_count": 15,
   "id": "d6ebeb2d",
   "metadata": {},
   "outputs": [
    {
     "data": {
      "text/plain": [
       "{\n",
       "  \"result\": {\n",
       "    \"observed_value\": [\n",
       "      \"Female\",\n",
       "      \"Male\",\n",
       "      \"Not Revealed\"\n",
       "    ],\n",
       "    \"element_count\": 875,\n",
       "    \"missing_count\": null,\n",
       "    \"missing_percent\": null\n",
       "  },\n",
       "  \"exception_info\": {\n",
       "    \"raised_exception\": false,\n",
       "    \"exception_traceback\": null,\n",
       "    \"exception_message\": null\n",
       "  },\n",
       "  \"meta\": {},\n",
       "  \"success\": false\n",
       "}"
      ]
     },
     "execution_count": 15,
     "metadata": {},
     "output_type": "execute_result"
    }
   ],
   "source": [
    "df.expect_column_distinct_values_to_be_in_set(\"Gender\",['Male','Female'],)"
   ]
  },
  {
   "cell_type": "code",
   "execution_count": 16,
   "id": "17ecdfef",
   "metadata": {},
   "outputs": [
    {
     "data": {
      "text/plain": [
       "{\n",
       "  \"result\": {\n",
       "    \"observed_value\": [\n",
       "      \"Female\",\n",
       "      \"Male\",\n",
       "      \"Not Revealed\"\n",
       "    ],\n",
       "    \"element_count\": 875,\n",
       "    \"missing_count\": null,\n",
       "    \"missing_percent\": null,\n",
       "    \"details\": {\n",
       "      \"value_counts\": [\n",
       "        {\n",
       "          \"value\": \"Female\",\n",
       "          \"count\": 432\n",
       "        },\n",
       "        {\n",
       "          \"value\": \"Male\",\n",
       "          \"count\": 423\n",
       "        },\n",
       "        {\n",
       "          \"value\": \"Not Revealed\",\n",
       "          \"count\": 20\n",
       "        }\n",
       "      ]\n",
       "    }\n",
       "  },\n",
       "  \"exception_info\": {\n",
       "    \"raised_exception\": false,\n",
       "    \"exception_message\": null,\n",
       "    \"exception_traceback\": null\n",
       "  },\n",
       "  \"meta\": {},\n",
       "  \"success\": false\n",
       "}"
      ]
     },
     "execution_count": 16,
     "metadata": {},
     "output_type": "execute_result"
    }
   ],
   "source": [
    "df.expect_column_distinct_values_to_equal_set(\"Gender\",['Male','Female'],result_format='COMPLETE',catch_exceptions='boolean')"
   ]
  },
  {
   "cell_type": "code",
   "execution_count": 17,
   "id": "6a2ca02c",
   "metadata": {},
   "outputs": [
    {
     "data": {
      "text/plain": [
       "{\n",
       "  \"expectations\": [],\n",
       "  \"meta\": {\n",
       "    \"great_expectations_version\": \"0.13.19\"\n",
       "  },\n",
       "  \"data_asset_type\": \"Dataset\",\n",
       "  \"expectation_suite_name\": \"default\"\n",
       "}"
      ]
     },
     "execution_count": 17,
     "metadata": {},
     "output_type": "execute_result"
    }
   ],
   "source": [
    "df.get_expectation_suite()"
   ]
  },
  {
   "cell_type": "code",
   "execution_count": 18,
   "id": "49217c7f",
   "metadata": {},
   "outputs": [
    {
     "data": {
      "text/plain": [
       "{\n",
       "  \"expectations\": [\n",
       "    {\n",
       "      \"meta\": \"dict\",\n",
       "      \"expectation_type\": \"expect_column_values_to_be_unique\",\n",
       "      \"kwargs\": {\n",
       "        \"column\": \"EmpID\"\n",
       "      }\n",
       "    },\n",
       "    {\n",
       "      \"meta\": {},\n",
       "      \"expectation_type\": \"expect_column_distinct_values_to_be_in_set\",\n",
       "      \"kwargs\": {\n",
       "        \"column\": \"Gender\",\n",
       "        \"value_set\": [\n",
       "          \"M\",\n",
       "          \"F\"\n",
       "        ]\n",
       "      }\n",
       "    }\n",
       "  ],\n",
       "  \"meta\": {\n",
       "    \"great_expectations_version\": \"0.13.19\"\n",
       "  },\n",
       "  \"data_asset_type\": \"Dataset\",\n",
       "  \"expectation_suite_name\": \"default\"\n",
       "}"
      ]
     },
     "execution_count": 18,
     "metadata": {},
     "output_type": "execute_result"
    }
   ],
   "source": [
    "dg.get_expectation_suite()"
   ]
  },
  {
   "cell_type": "code",
   "execution_count": 19,
   "id": "95590b09",
   "metadata": {},
   "outputs": [
    {
     "data": {
      "text/plain": [
       "{\n",
       "  \"expectations\": [\n",
       "    {\n",
       "      \"meta\": {},\n",
       "      \"expectation_type\": \"expect_column_distinct_values_to_be_in_set\",\n",
       "      \"kwargs\": {\n",
       "        \"column\": \"Gender\",\n",
       "        \"value_set\": [\n",
       "          \"Male\",\n",
       "          \"Female\"\n",
       "        ]\n",
       "      }\n",
       "    },\n",
       "    {\n",
       "      \"meta\": {},\n",
       "      \"expectation_type\": \"expect_column_distinct_values_to_equal_set\",\n",
       "      \"kwargs\": {\n",
       "        \"column\": \"Gender\",\n",
       "        \"value_set\": [\n",
       "          \"Male\",\n",
       "          \"Female\"\n",
       "        ]\n",
       "      }\n",
       "    }\n",
       "  ],\n",
       "  \"meta\": {\n",
       "    \"great_expectations_version\": \"0.13.19\"\n",
       "  },\n",
       "  \"data_asset_type\": \"Dataset\",\n",
       "  \"expectation_suite_name\": \"default\"\n",
       "}"
      ]
     },
     "execution_count": 19,
     "metadata": {},
     "output_type": "execute_result"
    }
   ],
   "source": [
    "df.get_expectation_suite(discard_failed_expectations=False)"
   ]
  },
  {
   "cell_type": "code",
   "execution_count": 20,
   "id": "1948bc14",
   "metadata": {},
   "outputs": [],
   "source": [
    "import json\n",
    "\n",
    "with open( \"my_expectation_file.json\", \"w\") as my_file:\n",
    "    my_file.write(\n",
    "        json.dumps(dg.get_expectation_suite().to_json_dict())\n",
    "    )"
   ]
  },
  {
   "cell_type": "code",
   "execution_count": 21,
   "id": "8bb88006",
   "metadata": {},
   "outputs": [
    {
     "name": "stdout",
     "output_type": "stream",
     "text": [
      "Requirement already satisfied: google-cloud-storage in c:\\users\\chirubhai\\anaconda3\\lib\\site-packages (1.38.0)\n",
      "Requirement already satisfied: google-cloud-core<2.0dev,>=1.4.1 in c:\\users\\chirubhai\\anaconda3\\lib\\site-packages (from google-cloud-storage) (1.6.0)\n",
      "Requirement already satisfied: google-auth<2.0dev,>=1.11.0 in c:\\users\\chirubhai\\anaconda3\\lib\\site-packages (from google-cloud-storage) (1.31.0)\n",
      "Requirement already satisfied: requests<3.0.0dev,>=2.18.0 in c:\\users\\chirubhai\\anaconda3\\lib\\site-packages (from google-cloud-storage) (2.25.1)\n",
      "Requirement already satisfied: google-resumable-media<2.0dev,>=1.2.0 in c:\\users\\chirubhai\\anaconda3\\lib\\site-packages (from google-cloud-storage) (1.3.0)\n",
      "Requirement already satisfied: cachetools<5.0,>=2.0.0 in c:\\users\\chirubhai\\anaconda3\\lib\\site-packages (from google-auth<2.0dev,>=1.11.0->google-cloud-storage) (4.2.2)\n",
      "Requirement already satisfied: setuptools>=40.3.0 in c:\\users\\chirubhai\\anaconda3\\lib\\site-packages (from google-auth<2.0dev,>=1.11.0->google-cloud-storage) (52.0.0.post20210125)\n",
      "Requirement already satisfied: six>=1.9.0 in c:\\users\\chirubhai\\anaconda3\\lib\\site-packages (from google-auth<2.0dev,>=1.11.0->google-cloud-storage) (1.15.0)\n",
      "Requirement already satisfied: rsa<5,>=3.1.4 in c:\\users\\chirubhai\\anaconda3\\lib\\site-packages (from google-auth<2.0dev,>=1.11.0->google-cloud-storage) (4.7.2)\n",
      "Requirement already satisfied: pyasn1-modules>=0.2.1 in c:\\users\\chirubhai\\anaconda3\\lib\\site-packages (from google-auth<2.0dev,>=1.11.0->google-cloud-storage) (0.2.8)\n",
      "Requirement already satisfied: google-api-core<2.0.0dev,>=1.21.0 in c:\\users\\chirubhai\\anaconda3\\lib\\site-packages (from google-cloud-core<2.0dev,>=1.4.1->google-cloud-storage) (1.30.0)\n",
      "Requirement already satisfied: protobuf>=3.12.0 in c:\\users\\chirubhai\\anaconda3\\lib\\site-packages (from google-api-core<2.0.0dev,>=1.21.0->google-cloud-core<2.0dev,>=1.4.1->google-cloud-storage) (3.17.3)\n",
      "Requirement already satisfied: googleapis-common-protos<2.0dev,>=1.6.0 in c:\\users\\chirubhai\\anaconda3\\lib\\site-packages (from google-api-core<2.0.0dev,>=1.21.0->google-cloud-core<2.0dev,>=1.4.1->google-cloud-storage) (1.53.0)\n",
      "Requirement already satisfied: pytz in c:\\users\\chirubhai\\anaconda3\\lib\\site-packages (from google-api-core<2.0.0dev,>=1.21.0->google-cloud-core<2.0dev,>=1.4.1->google-cloud-storage) (2021.1)\n",
      "Requirement already satisfied: packaging>=14.3 in c:\\users\\chirubhai\\anaconda3\\lib\\site-packages (from google-api-core<2.0.0dev,>=1.21.0->google-cloud-core<2.0dev,>=1.4.1->google-cloud-storage) (20.9)\n",
      "Requirement already satisfied: google-crc32c<2.0dev,>=1.0 in c:\\users\\chirubhai\\anaconda3\\lib\\site-packages (from google-resumable-media<2.0dev,>=1.2.0->google-cloud-storage) (1.1.2)\n",
      "Requirement already satisfied: cffi>=1.0.0 in c:\\users\\chirubhai\\anaconda3\\lib\\site-packages (from google-crc32c<2.0dev,>=1.0->google-resumable-media<2.0dev,>=1.2.0->google-cloud-storage) (1.14.5)\n",
      "Requirement already satisfied: pycparser in c:\\users\\chirubhai\\anaconda3\\lib\\site-packages (from cffi>=1.0.0->google-crc32c<2.0dev,>=1.0->google-resumable-media<2.0dev,>=1.2.0->google-cloud-storage) (2.20)\n",
      "Requirement already satisfied: pyparsing>=2.0.2 in c:\\users\\chirubhai\\anaconda3\\lib\\site-packages (from packaging>=14.3->google-api-core<2.0.0dev,>=1.21.0->google-cloud-core<2.0dev,>=1.4.1->google-cloud-storage) (2.4.7)\n",
      "Requirement already satisfied: pyasn1<0.5.0,>=0.4.6 in c:\\users\\chirubhai\\anaconda3\\lib\\site-packages (from pyasn1-modules>=0.2.1->google-auth<2.0dev,>=1.11.0->google-cloud-storage) (0.4.8)\n",
      "Requirement already satisfied: chardet<5,>=3.0.2 in c:\\users\\chirubhai\\anaconda3\\lib\\site-packages (from requests<3.0.0dev,>=2.18.0->google-cloud-storage) (4.0.0)\n",
      "Requirement already satisfied: certifi>=2017.4.17 in c:\\users\\chirubhai\\anaconda3\\lib\\site-packages (from requests<3.0.0dev,>=2.18.0->google-cloud-storage) (2020.12.5)\n",
      "Requirement already satisfied: urllib3<1.27,>=1.21.1 in c:\\users\\chirubhai\\anaconda3\\lib\\site-packages (from requests<3.0.0dev,>=2.18.0->google-cloud-storage) (1.26.4)\n",
      "Requirement already satisfied: idna<3,>=2.5 in c:\\users\\chirubhai\\anaconda3\\lib\\site-packages (from requests<3.0.0dev,>=2.18.0->google-cloud-storage) (2.10)\n",
      "Note: you may need to restart the kernel to use updated packages.\n"
     ]
    }
   ],
   "source": [
    "pip install --upgrade google-cloud-storage"
   ]
  },
  {
   "cell_type": "code",
   "execution_count": 22,
   "id": "da026588",
   "metadata": {},
   "outputs": [],
   "source": [
    "from google.cloud import storage\n",
    "from google.oauth2 import service_account"
   ]
  },
  {
   "cell_type": "code",
   "execution_count": 23,
   "id": "7b9ab092",
   "metadata": {},
   "outputs": [],
   "source": [
    "ri=dg.expect_column_distinct_values_to_be_in_set(\"Gender\",['M','F'])"
   ]
  },
  {
   "cell_type": "code",
   "execution_count": 24,
   "id": "70158ff9",
   "metadata": {},
   "outputs": [
    {
     "data": {
      "text/plain": [
       "{\n",
       "  \"result\": {\n",
       "    \"observed_value\": [\n",
       "      \"F\",\n",
       "      \"M\"\n",
       "    ],\n",
       "    \"element_count\": 1802,\n",
       "    \"missing_count\": null,\n",
       "    \"missing_percent\": null\n",
       "  },\n",
       "  \"exception_info\": {\n",
       "    \"raised_exception\": false,\n",
       "    \"exception_traceback\": null,\n",
       "    \"exception_message\": null\n",
       "  },\n",
       "  \"meta\": {},\n",
       "  \"success\": true\n",
       "}"
      ]
     },
     "execution_count": 24,
     "metadata": {},
     "output_type": "execute_result"
    }
   ],
   "source": [
    "ri"
   ]
  },
  {
   "cell_type": "code",
   "execution_count": 25,
   "id": "8af668e5",
   "metadata": {},
   "outputs": [
    {
     "data": {
      "text/plain": [
       "True"
      ]
     },
     "execution_count": 25,
     "metadata": {},
     "output_type": "execute_result"
    }
   ],
   "source": [
    "ri.success"
   ]
  },
  {
   "cell_type": "code",
   "execution_count": 26,
   "id": "fb395fa9",
   "metadata": {},
   "outputs": [],
   "source": [
    "ri=dg.expect_column_distinct_values_to_be_in_set(\"Gender\",['M','F'])"
   ]
  },
  {
   "cell_type": "code",
   "execution_count": 29,
   "id": "f235e271",
   "metadata": {},
   "outputs": [
    {
     "data": {
      "text/plain": [
       "True"
      ]
     },
     "execution_count": 29,
     "metadata": {},
     "output_type": "execute_result"
    }
   ],
   "source": [
    "ri.success"
   ]
  },
  {
   "cell_type": "code",
   "execution_count": null,
   "id": "ba4e0f86",
   "metadata": {},
   "outputs": [],
   "source": []
  }
 ],
 "metadata": {
  "kernelspec": {
   "display_name": "Python 3",
   "language": "python",
   "name": "python3"
  },
  "language_info": {
   "codemirror_mode": {
    "name": "ipython",
    "version": 3
   },
   "file_extension": ".py",
   "mimetype": "text/x-python",
   "name": "python",
   "nbconvert_exporter": "python",
   "pygments_lexer": "ipython3",
   "version": "3.8.8"
  }
 },
 "nbformat": 4,
 "nbformat_minor": 5
}
